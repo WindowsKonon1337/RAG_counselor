{
 "cells": [
  {
   "cell_type": "code",
   "execution_count": 1,
   "metadata": {},
   "outputs": [],
   "source": [
    "import click\n",
    "import asyncio\n",
    "import os\n",
    "import json\n",
    "from asyncio import Queue\n",
    "import re\n",
    "\n",
    "import aiohttp\n",
    "import multiprocessing as mp\n",
    "from bs4 import BeautifulSoup as bs"
   ]
  },
  {
   "cell_type": "code",
   "execution_count": 2,
   "metadata": {},
   "outputs": [],
   "source": [
    "class Fetcher:\n",
    "    def __init__(\n",
    "            self,\n",
    "            url_file: str,\n",
    "            output_file: str,\n",
    "            workers: int = 10\n",
    "    ) -> str:\n",
    "        if isinstance(url_file, str):\n",
    "            self.url_file = open(url_file, encoding='utf-8')\n",
    "        else:\n",
    "            raise TypeError('bad urlfile type')\n",
    "        if isinstance(output_file, str):\n",
    "            self.output_file = open(output_file, encoding='cp1251', mode='w+')\n",
    "        else:\n",
    "            raise TypeError('bad output file type')\n",
    "\n",
    "        self.workers = workers\n",
    "        self.queue = Queue()\n",
    "\n",
    "    def __get_urls_from_file(self):\n",
    "        for line in self.url_file:\n",
    "            yield line.strip()\n",
    "\n",
    "    def __filter_condition(self, text_str: str) -> bool:\n",
    "        if 'Утратил силу' not in text_str \\\n",
    "                and 'в ред. Федерал' not in text_str \\\n",
    "                and 'текст в предыдущей редакции' not in text_str \\\n",
    "                and text_str:\n",
    "            return True\n",
    "        return False\n",
    "\n",
    "    async def fetch_url(self, url: str):\n",
    "        async with aiohttp.ClientSession() as session:\n",
    "            async with session.get('https://www.consultant.ru' + url) as response:\n",
    "                data = await response.read()\n",
    "                return await self.parse_response(data)\n",
    "\n",
    "    async def parse_response(self, data):\n",
    "        soup = bs(data, 'html.parser')\n",
    "        law_div = soup.find('div', class_='document-page__content document-page_left-padding')\n",
    "\n",
    "        extracted_divs = law_div.find_all('div', class_='document__edit doc-edit')\n",
    "        for div in extracted_divs:\n",
    "            div.extract()\n",
    "\n",
    "        law_desc = list(\n",
    "            filter(\n",
    "                    lambda x: x.get('class', []) != ['no-indent'],\n",
    "                    law_div.find_all('p')\n",
    "            )\n",
    "        )\n",
    "        law_desc_list = list(filter(self.__filter_condition, [x.text for x in law_desc]))\n",
    "        splitted_label = law_desc_list[0].split('.')\n",
    "        tail_nums = [i for i in splitted_label[1:] if i.isdigit()]\n",
    "\n",
    "        law_num, law_desc_str = splitted_label[0] + '.' + '.'.join(tail_nums), ' '.join(law_desc_list[1:]).strip()\n",
    "        law_parts = list(\n",
    "                            filter(\n",
    "                                lambda x: x,\n",
    "                                re.split(r'\\d+\\. ', law_desc_str)\n",
    "                            )\n",
    "                        )\n",
    "        return law_num, law_parts\n",
    "\n",
    "    async def fetch_worker(self):\n",
    "        while True:\n",
    "            url = await self.queue.get()\n",
    "            if url is None:\n",
    "                await self.queue.put(url)\n",
    "                break\n",
    "            try:\n",
    "                law_num, law_parts = await self.fetch_url(url)\n",
    "                json.dump(\n",
    "                    {\n",
    "                        law_num: law_parts\n",
    "                    },\n",
    "                    fp=self.output_file,\n",
    "                    ensure_ascii=False\n",
    "                )\n",
    "                self.output_file.write('\\n')\n",
    "            except Exception as exception:\n",
    "                print(f'Error fetching {url} : {exception}')\n",
    "                self.queue.put(url)\n",
    "\n",
    "    async def batch_fetch(self):\n",
    "        workers = [\n",
    "            self.fetch_worker()\n",
    "            for _ in range(self.workers)\n",
    "        ]\n",
    "\n",
    "        for url in self.__get_urls_from_file():\n",
    "            await self.queue.put(url)\n",
    "        await self.queue.put(None)\n",
    "\n",
    "        await asyncio.gather(*workers)"
   ]
  },
  {
   "cell_type": "code",
   "execution_count": 12,
   "metadata": {},
   "outputs": [],
   "source": [
    "def run_task(queue: mp.Queue):\n",
    "    urls = queue.get()\n",
    "    fetcher = Fetcher(\n",
    "        url_file=f'../../../../volume_dumps/parse_data/links/{urls}',\n",
    "        output_file=f'./{urls}.json',\n",
    "        workers=2,\n",
    "    )\n",
    "\n",
    "    if isinstance(url_file, str):\n",
    "        self.url_file = open(url_file, encoding='utf-8')\n",
    "    else:\n",
    "        raise TypeError('bad urlfile type')\n",
    "    if isinstance(output_file, str):\n",
    "        self.output_file = open(output_file, encoding='cp1251', mode='w+')\n",
    "    else:\n",
    "        raise TypeError('bad output file type')\n",
    "\n",
    "    loop = asyncio.get_event_loop()\n",
    "    loop.run_until_complete(fetcher.batch_fetch())\n",
    "    loop.close()"
   ]
  },
  {
   "cell_type": "code",
   "execution_count": 4,
   "metadata": {},
   "outputs": [
    {
     "data": {
      "text/plain": [
       "['9_2024-07-19',\n",
       " '8_2024-07-19',\n",
       " '12_2024-07-19',\n",
       " '19_2024-07-19',\n",
       " '7_2024-07-19',\n",
       " '5_2024-07-19',\n",
       " '15_2024-07-19',\n",
       " '17_2024-07-19',\n",
       " '13_2024-07-19',\n",
       " '14_2024-07-19',\n",
       " '6_2024-07-19',\n",
       " '16_2024-07-19',\n",
       " '10_2024-07-19',\n",
       " '11_2024-07-19',\n",
       " '21_2024-07-19',\n",
       " '20_2024-07-19',\n",
       " '18_2024-07-19']"
      ]
     },
     "execution_count": 4,
     "metadata": {},
     "output_type": "execute_result"
    }
   ],
   "source": [
    "os.listdir('../../../../volume_dumps/parse_data/links')"
   ]
  },
  {
   "cell_type": "code",
   "execution_count": 17,
   "metadata": {},
   "outputs": [],
   "source": [
    "import time"
   ]
  },
  {
   "cell_type": "code",
   "execution_count": 18,
   "metadata": {},
   "outputs": [
    {
     "ename": "RuntimeError",
     "evalue": "This event loop is already running",
     "output_type": "error",
     "traceback": [
      "\u001b[0;31m---------------------------------------------------------------------------\u001b[0m",
      "\u001b[0;31mRuntimeError\u001b[0m                              Traceback (most recent call last)",
      "Cell \u001b[0;32mIn[18], line 9\u001b[0m\n\u001b[1;32m      2\u001b[0m \u001b[38;5;28;01mfor\u001b[39;00m file_name \u001b[38;5;129;01min\u001b[39;00m os\u001b[38;5;241m.\u001b[39mlistdir(\u001b[38;5;124m'\u001b[39m\u001b[38;5;124m../../../../volume_dumps/parse_data/links\u001b[39m\u001b[38;5;124m'\u001b[39m):\n\u001b[1;32m      3\u001b[0m     fetcher \u001b[38;5;241m=\u001b[39m Fetcher(\n\u001b[1;32m      4\u001b[0m         url_file\u001b[38;5;241m=\u001b[39m\u001b[38;5;124mf\u001b[39m\u001b[38;5;124m'\u001b[39m\u001b[38;5;124m../../../../volume_dumps/parse_data/links/\u001b[39m\u001b[38;5;132;01m{\u001b[39;00mfile_name\u001b[38;5;132;01m}\u001b[39;00m\u001b[38;5;124m'\u001b[39m,\n\u001b[1;32m      5\u001b[0m         output_file\u001b[38;5;241m=\u001b[39m\u001b[38;5;124mf\u001b[39m\u001b[38;5;124m'\u001b[39m\u001b[38;5;124m./\u001b[39m\u001b[38;5;132;01m{\u001b[39;00mfile_name\u001b[38;5;132;01m}\u001b[39;00m\u001b[38;5;124m.json\u001b[39m\u001b[38;5;124m'\u001b[39m,\n\u001b[1;32m      6\u001b[0m         workers\u001b[38;5;241m=\u001b[39m\u001b[38;5;241m2\u001b[39m,\n\u001b[1;32m      7\u001b[0m     )\n\u001b[0;32m----> 9\u001b[0m     \u001b[43mloop\u001b[49m\u001b[38;5;241;43m.\u001b[39;49m\u001b[43mrun_until_complete\u001b[49m\u001b[43m(\u001b[49m\u001b[43mfetcher\u001b[49m\u001b[38;5;241;43m.\u001b[39;49m\u001b[43mbatch_fetch\u001b[49m\u001b[43m(\u001b[49m\u001b[43m)\u001b[49m\u001b[43m)\u001b[49m\n\u001b[1;32m     10\u001b[0m     time\u001b[38;5;241m.\u001b[39msleep(\u001b[38;5;241m10\u001b[39m)\n\u001b[1;32m     11\u001b[0m     loop\u001b[38;5;241m.\u001b[39mclose()\n",
      "File \u001b[0;32m/usr/lib/python3.10/asyncio/base_events.py:625\u001b[0m, in \u001b[0;36mBaseEventLoop.run_until_complete\u001b[0;34m(self, future)\u001b[0m\n\u001b[1;32m    614\u001b[0m \u001b[38;5;250m\u001b[39m\u001b[38;5;124;03m\"\"\"Run until the Future is done.\u001b[39;00m\n\u001b[1;32m    615\u001b[0m \n\u001b[1;32m    616\u001b[0m \u001b[38;5;124;03mIf the argument is a coroutine, it is wrapped in a Task.\u001b[39;00m\n\u001b[0;32m   (...)\u001b[0m\n\u001b[1;32m    622\u001b[0m \u001b[38;5;124;03mReturn the Future's result, or raise its exception.\u001b[39;00m\n\u001b[1;32m    623\u001b[0m \u001b[38;5;124;03m\"\"\"\u001b[39;00m\n\u001b[1;32m    624\u001b[0m \u001b[38;5;28mself\u001b[39m\u001b[38;5;241m.\u001b[39m_check_closed()\n\u001b[0;32m--> 625\u001b[0m \u001b[38;5;28;43mself\u001b[39;49m\u001b[38;5;241;43m.\u001b[39;49m\u001b[43m_check_running\u001b[49m\u001b[43m(\u001b[49m\u001b[43m)\u001b[49m\n\u001b[1;32m    627\u001b[0m new_task \u001b[38;5;241m=\u001b[39m \u001b[38;5;129;01mnot\u001b[39;00m futures\u001b[38;5;241m.\u001b[39misfuture(future)\n\u001b[1;32m    628\u001b[0m future \u001b[38;5;241m=\u001b[39m tasks\u001b[38;5;241m.\u001b[39mensure_future(future, loop\u001b[38;5;241m=\u001b[39m\u001b[38;5;28mself\u001b[39m)\n",
      "File \u001b[0;32m/usr/lib/python3.10/asyncio/base_events.py:584\u001b[0m, in \u001b[0;36mBaseEventLoop._check_running\u001b[0;34m(self)\u001b[0m\n\u001b[1;32m    582\u001b[0m \u001b[38;5;28;01mdef\u001b[39;00m \u001b[38;5;21m_check_running\u001b[39m(\u001b[38;5;28mself\u001b[39m):\n\u001b[1;32m    583\u001b[0m     \u001b[38;5;28;01mif\u001b[39;00m \u001b[38;5;28mself\u001b[39m\u001b[38;5;241m.\u001b[39mis_running():\n\u001b[0;32m--> 584\u001b[0m         \u001b[38;5;28;01mraise\u001b[39;00m \u001b[38;5;167;01mRuntimeError\u001b[39;00m(\u001b[38;5;124m'\u001b[39m\u001b[38;5;124mThis event loop is already running\u001b[39m\u001b[38;5;124m'\u001b[39m)\n\u001b[1;32m    585\u001b[0m     \u001b[38;5;28;01mif\u001b[39;00m events\u001b[38;5;241m.\u001b[39m_get_running_loop() \u001b[38;5;129;01mis\u001b[39;00m \u001b[38;5;129;01mnot\u001b[39;00m \u001b[38;5;28;01mNone\u001b[39;00m:\n\u001b[1;32m    586\u001b[0m         \u001b[38;5;28;01mraise\u001b[39;00m \u001b[38;5;167;01mRuntimeError\u001b[39;00m(\n\u001b[1;32m    587\u001b[0m             \u001b[38;5;124m'\u001b[39m\u001b[38;5;124mCannot run the event loop while another loop is running\u001b[39m\u001b[38;5;124m'\u001b[39m)\n",
      "\u001b[0;31mRuntimeError\u001b[0m: This event loop is already running"
     ]
    }
   ],
   "source": [
    "loop = asyncio.get_event_loop()\n",
    "for file_name in os.listdir('../../../../volume_dumps/parse_data/links'):\n",
    "    fetcher = Fetcher(\n",
    "        url_file=f'../../../../volume_dumps/parse_data/links/{file_name}',\n",
    "        output_file=f'./{file_name}.json',\n",
    "        workers=2,\n",
    "    )\n",
    "\n",
    "    loop.run_until_complete(fetcher.batch_fetch())\n",
    "    time.sleep(10)\n",
    "    loop.close()"
   ]
  },
  {
   "cell_type": "code",
   "execution_count": null,
   "metadata": {},
   "outputs": [],
   "source": []
  }
 ],
 "metadata": {
  "kernelspec": {
   "display_name": ".venv",
   "language": "python",
   "name": "python3"
  },
  "language_info": {
   "codemirror_mode": {
    "name": "ipython",
    "version": 3
   },
   "file_extension": ".py",
   "mimetype": "text/x-python",
   "name": "python",
   "nbconvert_exporter": "python",
   "pygments_lexer": "ipython3",
   "version": "3.10.12"
  }
 },
 "nbformat": 4,
 "nbformat_minor": 2
}
