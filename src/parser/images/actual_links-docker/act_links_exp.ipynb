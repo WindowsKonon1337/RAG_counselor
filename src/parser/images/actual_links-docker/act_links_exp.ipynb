{
 "cells": [
  {
   "cell_type": "code",
   "execution_count": 1,
   "metadata": {},
   "outputs": [],
   "source": [
    "import requests\n",
    "from bs4 import BeautifulSoup as bs"
   ]
  },
  {
   "cell_type": "code",
   "execution_count": 2,
   "metadata": {},
   "outputs": [],
   "source": [
    "CONSULTANT_PLUS_LINK = 'https://www.consultant.ru'\n",
    "KOAPRF_DOC_LINK = 'document/cons_doc_LAW_34661'\n",
    "\n",
    "def actual_law_condition(text: str):\n",
    "    return not ('Утратил' in text)"
   ]
  },
  {
   "cell_type": "code",
   "execution_count": 3,
   "metadata": {},
   "outputs": [],
   "source": [
    "r = requests.get(f'{CONSULTANT_PLUS_LINK}/{KOAPRF_DOC_LINK}')\n",
    "parser = bs(r.text, 'html.parser')\n",
    "links_div = parser.find('div', class_='document-page__toc')\n",
    "law_links = links_div.find_all('a')\n",
    "\n",
    "idxs = []\n",
    "\n",
    "for idx, link in enumerate(law_links):\n",
    "    if 'Раздел II' in link.text or 'Раздел III' in link.text:\n",
    "        idxs.append(idx)\n",
    "\n",
    "actual_law_hrefs = list(\n",
    "    filter(\n",
    "        lambda x: actual_law_condition(x.text),\n",
    "        law_links[idxs[0] + 1: idxs[1]]\n",
    "    )\n",
    ")\n",
    "\n",
    "law_chapters = dict()"
   ]
  },
  {
   "cell_type": "code",
   "execution_count": 4,
   "metadata": {},
   "outputs": [],
   "source": [
    "current_chapter = ''\n",
    "for href in actual_law_hrefs:\n",
    "    if 'Глава' in href.text:\n",
    "        current_chapter = href.text.split('.')[0]\n",
    "        law_chapters[current_chapter] = list()\n",
    "        continue\n",
    "    law_chapters[current_chapter].\\\n",
    "        append(\n",
    "            href.get('href')\n",
    "        )"
   ]
  },
  {
   "cell_type": "code",
   "execution_count": 6,
   "metadata": {},
   "outputs": [
    {
     "ename": "TypeError",
     "evalue": "'dict_items' object is not subscriptable",
     "output_type": "error",
     "traceback": [
      "\u001b[0;31m---------------------------------------------------------------------------\u001b[0m",
      "\u001b[0;31mTypeError\u001b[0m                                 Traceback (most recent call last)",
      "Cell \u001b[0;32mIn[6], line 1\u001b[0m\n\u001b[0;32m----> 1\u001b[0m \u001b[43mlaw_chapters\u001b[49m\u001b[38;5;241;43m.\u001b[39;49m\u001b[43mitems\u001b[49m\u001b[43m(\u001b[49m\u001b[43m)\u001b[49m\u001b[43m[\u001b[49m\u001b[38;5;241;43m0\u001b[39;49m\u001b[43m]\u001b[49m\n",
      "\u001b[0;31mTypeError\u001b[0m: 'dict_items' object is not subscriptable"
     ]
    }
   ],
   "source": [
    "law_chapters.items()[0]"
   ]
  },
  {
   "cell_type": "code",
   "execution_count": 9,
   "metadata": {},
   "outputs": [
    {
     "name": "stdout",
     "output_type": "stream",
     "text": [
      "Глава 5\n",
      "Глава 6\n",
      "Глава 7\n",
      "Глава 8\n",
      "Глава 9\n",
      "Глава 10\n",
      "Глава 11\n",
      "Глава 12\n",
      "Глава 13\n",
      "Глава 14\n",
      "Глава 15\n",
      "Глава 16\n",
      "Глава 17\n",
      "Глава 18\n",
      "Глава 19\n",
      "Глава 20\n",
      "Глава 21\n"
     ]
    }
   ],
   "source": [
    "for key, value in law_chapters.items():\n",
    "    print(key)"
   ]
  },
  {
   "cell_type": "code",
   "execution_count": null,
   "metadata": {},
   "outputs": [],
   "source": []
  }
 ],
 "metadata": {
  "kernelspec": {
   "display_name": ".venv",
   "language": "python",
   "name": "python3"
  },
  "language_info": {
   "codemirror_mode": {
    "name": "ipython",
    "version": 3
   },
   "file_extension": ".py",
   "mimetype": "text/x-python",
   "name": "python",
   "nbconvert_exporter": "python",
   "pygments_lexer": "ipython3",
   "version": "3.10.12"
  }
 },
 "nbformat": 4,
 "nbformat_minor": 2
}
